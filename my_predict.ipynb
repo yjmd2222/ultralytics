{
 "cells": [
  {
   "cell_type": "code",
   "execution_count": 1,
   "id": "74f16357-b452-4e50-8a8f-41058915afc0",
   "metadata": {},
   "outputs": [],
   "source": [
    "from PIL import Image\n",
    "from ultralytics import YOLO\n",
    "import cv2\n",
    "from itertools import permutations\n",
    "import numpy as np"
   ]
  },
  {
   "cell_type": "code",
   "execution_count": 2,
   "id": "b59ae95f-9f68-4ef1-afe0-3e11edcb31bf",
   "metadata": {},
   "outputs": [],
   "source": [
    "model = YOLO('4ch/4ch/weights/best.pt')"
   ]
  },
  {
   "cell_type": "code",
   "execution_count": 3,
   "id": "7a327cb2-2572-43b0-a8ca-19f962b776bf",
   "metadata": {},
   "outputs": [
    {
     "name": "stderr",
     "output_type": "stream",
     "text": [
      "\n",
      "image 1/1 /scratch/a1704a01/workspace/dataset_aihub_4ch/images/val/S000735_008_0228_C_D_F_0.png: 384x640 1 m-red, 1 m-stop, 91.2ms\n",
      "Speed: 191.3ms preprocess, 91.2ms inference, 623.1ms postprocess per image at shape (1, 3, 384, 640)\n"
     ]
    }
   ],
   "source": [
    "image_path = '/scratch/a1704a01/workspace/dataset_aihub_4ch/images/val/S000735_008_0228_C_D_F_0.png'\n",
    "results = model(image_path)  # results list\n",
    "\n",
    "# Show the results\n",
    "for r in results:\n",
    "    im_array = r.plot()\n",
    "    im = Image.fromarray(im_array[:,:,(2,1,0)])\n",
    "    # im.show()  # show image\n",
    "    im.save('test_image/test.png')"
   ]
  },
  {
   "cell_type": "code",
   "execution_count": null,
   "id": "00f6dab4-6fe4-41db-9cca-e8c6957d4dde",
   "metadata": {},
   "outputs": [],
   "source": [
    "# files = []\n",
    "# numbers = [0, 1, 2, 3]\n",
    "# img = cv2.imread('/scratch/a1704a01/workspace/dataset_aihub_4ch/images/val/S000735_008_0228_C_D_F_0.png', cv2.IMREAD_UNCHANGED)\n",
    "\n",
    "# # 각 조합을 숫자로 나열\n",
    "# for perm in permutations(numbers):\n",
    "#     print(perm)\n",
    "#     file_path = 'test_image/' + str(perm) + '.png'\n",
    "#     cv2.imwrite(file_path, img[:,:,perm])\n",
    "    \n",
    "#     results = model(file_path)  # results list\n",
    "\n",
    "#     # Show the results\n",
    "#     for r in results:\n",
    "#         im_array = r.plot()\n",
    "#         im = Image.fromarray(im_array[..., ::-1])\n",
    "#         # im.show()  # show image\n",
    "#         im.save('test_image/' + str(perm) + '_predict.png')  # save image"
   ]
  }
 ],
 "metadata": {
  "kernelspec": {
   "display_name": "Python 3 (ipykernel)",
   "language": "python",
   "name": "python3"
  },
  "language_info": {
   "codemirror_mode": {
    "name": "ipython",
    "version": 3
   },
   "file_extension": ".py",
   "mimetype": "text/x-python",
   "name": "python",
   "nbconvert_exporter": "python",
   "pygments_lexer": "ipython3",
   "version": "3.10.6"
  }
 },
 "nbformat": 4,
 "nbformat_minor": 5
}
